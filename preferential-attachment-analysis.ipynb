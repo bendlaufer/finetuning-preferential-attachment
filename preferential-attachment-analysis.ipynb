{
 "cells": [
  {
   "cell_type": "markdown",
   "id": "123ef407",
   "metadata": {},
   "source": [
    "# Preferential Attachment Analysis\n",
    "\n",
    "Here we analyze preferential attachment in fine-tuning. We treat each attachment as a "
   ]
  },
  {
   "cell_type": "code",
   "execution_count": 1,
   "id": "ded799c0",
   "metadata": {},
   "outputs": [],
   "source": [
    "import pandas as pd\n",
    "import numpy as np\n",
    "import matplotlib.pyplot as plt\n",
    "import networkx as nx\n",
    "import pickle\n",
    "import random\n",
    "\n",
    "# Load the data\n",
    "G = pickle.load(open('data/ai_ecosystem_graph_finetune.pkl', 'rb'))"
   ]
  },
  {
   "cell_type": "code",
   "execution_count": 2,
   "id": "04846c21",
   "metadata": {},
   "outputs": [
    {
     "name": "stdout",
     "output_type": "stream",
     "text": [
      "{'likes': 0, 'downloads': 2, 'pipeline_tag': nan, 'library_name': nan, 'createdAt': '2024-08-15T18:50:44.000Z', 'licenses': \"['other']\", 'datasets': '[]', 'languages': '[]'}\n"
     ]
    }
   ],
   "source": [
    "\n",
    "# Get a random node from G and print all its information\n",
    "node = random.choice(list(G.nodes))\n",
    "print(G.nodes[node])"
   ]
  },
  {
   "cell_type": "code",
   "execution_count": 3,
   "id": "dd051d46",
   "metadata": {},
   "outputs": [
    {
     "ename": "KeyboardInterrupt",
     "evalue": "",
     "output_type": "error",
     "traceback": [
      "\u001b[0;31m---------------------------------------------------------------------------\u001b[0m",
      "\u001b[0;31mKeyboardInterrupt\u001b[0m                         Traceback (most recent call last)",
      "Cell \u001b[0;32mIn[3], line 5\u001b[0m\n\u001b[1;32m      3\u001b[0m \u001b[38;5;66;03m# Convert the 'createdAt' attribute to a datetime object for each node\u001b[39;00m\n\u001b[1;32m      4\u001b[0m \u001b[38;5;28;01mfor\u001b[39;00m node \u001b[38;5;129;01min\u001b[39;00m G\u001b[38;5;241m.\u001b[39mnodes:\n\u001b[0;32m----> 5\u001b[0m     G\u001b[38;5;241m.\u001b[39mnodes[node][\u001b[38;5;124m'\u001b[39m\u001b[38;5;124mcreatedAt\u001b[39m\u001b[38;5;124m'\u001b[39m] \u001b[38;5;241m=\u001b[39m \u001b[43mdatetime\u001b[49m\u001b[38;5;241;43m.\u001b[39;49m\u001b[43mstrptime\u001b[49m\u001b[43m(\u001b[49m\u001b[43mG\u001b[49m\u001b[38;5;241;43m.\u001b[39;49m\u001b[43mnodes\u001b[49m\u001b[43m[\u001b[49m\u001b[43mnode\u001b[49m\u001b[43m]\u001b[49m\u001b[43m[\u001b[49m\u001b[38;5;124;43m'\u001b[39;49m\u001b[38;5;124;43mcreatedAt\u001b[39;49m\u001b[38;5;124;43m'\u001b[39;49m\u001b[43m]\u001b[49m\u001b[43m,\u001b[49m\u001b[43m \u001b[49m\u001b[38;5;124;43m'\u001b[39;49m\u001b[38;5;124;43m%\u001b[39;49m\u001b[38;5;124;43mY-\u001b[39;49m\u001b[38;5;124;43m%\u001b[39;49m\u001b[38;5;124;43mm-\u001b[39;49m\u001b[38;5;132;43;01m%d\u001b[39;49;00m\u001b[38;5;124;43mT\u001b[39;49m\u001b[38;5;124;43m%\u001b[39;49m\u001b[38;5;124;43mH:\u001b[39;49m\u001b[38;5;124;43m%\u001b[39;49m\u001b[38;5;124;43mM:\u001b[39;49m\u001b[38;5;124;43m%\u001b[39;49m\u001b[38;5;124;43mS.\u001b[39;49m\u001b[38;5;132;43;01m%f\u001b[39;49;00m\u001b[38;5;124;43mZ\u001b[39;49m\u001b[38;5;124;43m'\u001b[39;49m\u001b[43m)\u001b[49m\n\u001b[1;32m      7\u001b[0m \u001b[38;5;66;03m# Get the current time\u001b[39;00m\n\u001b[1;32m      8\u001b[0m current_time \u001b[38;5;241m=\u001b[39m datetime\u001b[38;5;241m.\u001b[39mnow()\n",
      "File \u001b[0;32m/opt/homebrew/anaconda3/lib/python3.9/_strptime.py:568\u001b[0m, in \u001b[0;36m_strptime_datetime\u001b[0;34m(cls, data_string, format)\u001b[0m\n\u001b[1;32m    565\u001b[0m \u001b[38;5;28;01mdef\u001b[39;00m\u001b[38;5;250m \u001b[39m\u001b[38;5;21m_strptime_datetime\u001b[39m(\u001b[38;5;28mcls\u001b[39m, data_string, \u001b[38;5;28mformat\u001b[39m\u001b[38;5;241m=\u001b[39m\u001b[38;5;124m\"\u001b[39m\u001b[38;5;132;01m%a\u001b[39;00m\u001b[38;5;124m \u001b[39m\u001b[38;5;124m%\u001b[39m\u001b[38;5;124mb \u001b[39m\u001b[38;5;132;01m%d\u001b[39;00m\u001b[38;5;124m \u001b[39m\u001b[38;5;124m%\u001b[39m\u001b[38;5;124mH:\u001b[39m\u001b[38;5;124m%\u001b[39m\u001b[38;5;124mM:\u001b[39m\u001b[38;5;124m%\u001b[39m\u001b[38;5;124mS \u001b[39m\u001b[38;5;124m%\u001b[39m\u001b[38;5;124mY\u001b[39m\u001b[38;5;124m\"\u001b[39m):\n\u001b[1;32m    566\u001b[0m \u001b[38;5;250m    \u001b[39m\u001b[38;5;124;03m\"\"\"Return a class cls instance based on the input string and the\u001b[39;00m\n\u001b[1;32m    567\u001b[0m \u001b[38;5;124;03m    format string.\"\"\"\u001b[39;00m\n\u001b[0;32m--> 568\u001b[0m     tt, fraction, gmtoff_fraction \u001b[38;5;241m=\u001b[39m \u001b[43m_strptime\u001b[49m\u001b[43m(\u001b[49m\u001b[43mdata_string\u001b[49m\u001b[43m,\u001b[49m\u001b[43m \u001b[49m\u001b[38;5;28;43mformat\u001b[39;49m\u001b[43m)\u001b[49m\n\u001b[1;32m    569\u001b[0m     tzname, gmtoff \u001b[38;5;241m=\u001b[39m tt[\u001b[38;5;241m-\u001b[39m\u001b[38;5;241m2\u001b[39m:]\n\u001b[1;32m    570\u001b[0m     args \u001b[38;5;241m=\u001b[39m tt[:\u001b[38;5;241m6\u001b[39m] \u001b[38;5;241m+\u001b[39m (fraction,)\n",
      "File \u001b[0;32m/opt/homebrew/anaconda3/lib/python3.9/_strptime.py:322\u001b[0m, in \u001b[0;36m_strptime\u001b[0;34m(data_string, format)\u001b[0m\n\u001b[1;32m    320\u001b[0m \u001b[38;5;28;01mwith\u001b[39;00m _cache_lock:\n\u001b[1;32m    321\u001b[0m     locale_time \u001b[38;5;241m=\u001b[39m _TimeRE_cache\u001b[38;5;241m.\u001b[39mlocale_time\n\u001b[0;32m--> 322\u001b[0m     \u001b[38;5;28;01mif\u001b[39;00m (\u001b[43m_getlang\u001b[49m\u001b[43m(\u001b[49m\u001b[43m)\u001b[49m \u001b[38;5;241m!=\u001b[39m locale_time\u001b[38;5;241m.\u001b[39mlang \u001b[38;5;129;01mor\u001b[39;00m\n\u001b[1;32m    323\u001b[0m         time\u001b[38;5;241m.\u001b[39mtzname \u001b[38;5;241m!=\u001b[39m locale_time\u001b[38;5;241m.\u001b[39mtzname \u001b[38;5;129;01mor\u001b[39;00m\n\u001b[1;32m    324\u001b[0m         time\u001b[38;5;241m.\u001b[39mdaylight \u001b[38;5;241m!=\u001b[39m locale_time\u001b[38;5;241m.\u001b[39mdaylight):\n\u001b[1;32m    325\u001b[0m         _TimeRE_cache \u001b[38;5;241m=\u001b[39m TimeRE()\n\u001b[1;32m    326\u001b[0m         _regex_cache\u001b[38;5;241m.\u001b[39mclear()\n",
      "File \u001b[0;32m/opt/homebrew/anaconda3/lib/python3.9/_strptime.py:28\u001b[0m, in \u001b[0;36m_getlang\u001b[0;34m()\u001b[0m\n\u001b[1;32m     26\u001b[0m \u001b[38;5;28;01mdef\u001b[39;00m\u001b[38;5;250m \u001b[39m\u001b[38;5;21m_getlang\u001b[39m():\n\u001b[1;32m     27\u001b[0m     \u001b[38;5;66;03m# Figure out what the current language is set to.\u001b[39;00m\n\u001b[0;32m---> 28\u001b[0m     \u001b[38;5;28;01mreturn\u001b[39;00m \u001b[43mlocale\u001b[49m\u001b[38;5;241;43m.\u001b[39;49m\u001b[43mgetlocale\u001b[49m\u001b[43m(\u001b[49m\u001b[43mlocale\u001b[49m\u001b[38;5;241;43m.\u001b[39;49m\u001b[43mLC_TIME\u001b[49m\u001b[43m)\u001b[49m\n",
      "File \u001b[0;32m/opt/homebrew/anaconda3/lib/python3.9/locale.py:593\u001b[0m, in \u001b[0;36mgetlocale\u001b[0;34m(category)\u001b[0m\n\u001b[1;32m    591\u001b[0m \u001b[38;5;28;01mif\u001b[39;00m category \u001b[38;5;241m==\u001b[39m LC_ALL \u001b[38;5;129;01mand\u001b[39;00m \u001b[38;5;124m'\u001b[39m\u001b[38;5;124m;\u001b[39m\u001b[38;5;124m'\u001b[39m \u001b[38;5;129;01min\u001b[39;00m localename:\n\u001b[1;32m    592\u001b[0m     \u001b[38;5;28;01mraise\u001b[39;00m \u001b[38;5;167;01mTypeError\u001b[39;00m(\u001b[38;5;124m'\u001b[39m\u001b[38;5;124mcategory LC_ALL is not supported\u001b[39m\u001b[38;5;124m'\u001b[39m)\n\u001b[0;32m--> 593\u001b[0m \u001b[38;5;28;01mreturn\u001b[39;00m \u001b[43m_parse_localename\u001b[49m\u001b[43m(\u001b[49m\u001b[43mlocalename\u001b[49m\u001b[43m)\u001b[49m\n",
      "File \u001b[0;32m/opt/homebrew/anaconda3/lib/python3.9/locale.py:483\u001b[0m, in \u001b[0;36m_parse_localename\u001b[0;34m(localename)\u001b[0m\n\u001b[1;32m    469\u001b[0m \u001b[38;5;28;01mdef\u001b[39;00m\u001b[38;5;250m \u001b[39m\u001b[38;5;21m_parse_localename\u001b[39m(localename):\n\u001b[1;32m    471\u001b[0m \u001b[38;5;250m    \u001b[39m\u001b[38;5;124;03m\"\"\" Parses the locale code for localename and returns the\u001b[39;00m\n\u001b[1;32m    472\u001b[0m \u001b[38;5;124;03m        result as tuple (language code, encoding).\u001b[39;00m\n\u001b[1;32m    473\u001b[0m \n\u001b[0;32m   (...)\u001b[0m\n\u001b[1;32m    481\u001b[0m \n\u001b[1;32m    482\u001b[0m \u001b[38;5;124;03m    \"\"\"\u001b[39;00m\n\u001b[0;32m--> 483\u001b[0m     code \u001b[38;5;241m=\u001b[39m \u001b[43mnormalize\u001b[49m\u001b[43m(\u001b[49m\u001b[43mlocalename\u001b[49m\u001b[43m)\u001b[49m\n\u001b[1;32m    484\u001b[0m     \u001b[38;5;28;01mif\u001b[39;00m \u001b[38;5;124m'\u001b[39m\u001b[38;5;124m@\u001b[39m\u001b[38;5;124m'\u001b[39m \u001b[38;5;129;01min\u001b[39;00m code:\n\u001b[1;32m    485\u001b[0m         \u001b[38;5;66;03m# Deal with locale modifiers\u001b[39;00m\n\u001b[1;32m    486\u001b[0m         code, modifier \u001b[38;5;241m=\u001b[39m code\u001b[38;5;241m.\u001b[39msplit(\u001b[38;5;124m'\u001b[39m\u001b[38;5;124m@\u001b[39m\u001b[38;5;124m'\u001b[39m, \u001b[38;5;241m1\u001b[39m)\n",
      "File \u001b[0;32m/opt/homebrew/anaconda3/lib/python3.9/locale.py:386\u001b[0m, in \u001b[0;36mnormalize\u001b[0;34m(localename)\u001b[0m\n\u001b[1;32m    383\u001b[0m             \u001b[38;5;28;01mreturn\u001b[39;00m _replace_encoding(code, \u001b[38;5;124m'\u001b[39m\u001b[38;5;124mISO8859-15\u001b[39m\u001b[38;5;124m'\u001b[39m)\n\u001b[1;32m    384\u001b[0m     \u001b[38;5;28;01mreturn\u001b[39;00m code \u001b[38;5;241m+\u001b[39m \u001b[38;5;124m'\u001b[39m\u001b[38;5;124m@\u001b[39m\u001b[38;5;124m'\u001b[39m \u001b[38;5;241m+\u001b[39m modifier\n\u001b[0;32m--> 386\u001b[0m \u001b[38;5;28;01mdef\u001b[39;00m\u001b[38;5;250m \u001b[39m\u001b[38;5;21mnormalize\u001b[39m(localename):\n\u001b[1;32m    388\u001b[0m \u001b[38;5;250m    \u001b[39m\u001b[38;5;124;03m\"\"\" Returns a normalized locale code for the given locale\u001b[39;00m\n\u001b[1;32m    389\u001b[0m \u001b[38;5;124;03m        name.\u001b[39;00m\n\u001b[1;32m    390\u001b[0m \n\u001b[0;32m   (...)\u001b[0m\n\u001b[1;32m    400\u001b[0m \n\u001b[1;32m    401\u001b[0m \u001b[38;5;124;03m    \"\"\"\u001b[39;00m\n\u001b[1;32m    402\u001b[0m     \u001b[38;5;66;03m# Normalize the locale name and extract the encoding and modifier\u001b[39;00m\n",
      "\u001b[0;31mKeyboardInterrupt\u001b[0m: "
     ]
    }
   ],
   "source": [
    "\n",
    "from datetime import datetime\n",
    "\n",
    "# Convert the 'createdAt' attribute to a datetime object for each node\n",
    "for node in G.nodes:\n",
    "    G.nodes[node]['createdAt'] = datetime.strptime(G.nodes[node]['createdAt'], '%Y-%m-%dT%H:%M:%S.%fZ')\n",
    "\n",
    "# Get the current time\n",
    "current_time = datetime.now()\n",
    "\n",
    "# Filter nodes that have been created\n",
    "created_nodes = [node for node in G.nodes if G.nodes[node]['createdAt'] <= current_time]\n",
    "\n",
    "# Initialize a dictionary to count attachments by degree\n",
    "degree_attachment_count = {}\n",
    "\n",
    "# Iterate over each edge in the graph\n",
    "counter = 0\n",
    "for u, v in G.edges:\n",
    "    # Check if both nodes are in the created_nodes list\n",
    "    if u in created_nodes and v in created_nodes:\n",
    "        counter += 1\n",
    "        if counter % 100 == 0:\n",
    "            print(f\"Processed {counter} edges\")\n",
    "        # Get the degree of the nodes\n",
    "        degree_u = G.degree[u]\n",
    "        degree_v = G.degree[v]\n",
    "        \n",
    "        # Increment the attachment count for each degree\n",
    "        if degree_u not in degree_attachment_count:\n",
    "            degree_attachment_count[degree_u] = 0\n",
    "        if degree_v not in degree_attachment_count:\n",
    "            degree_attachment_count[degree_v] = 0\n",
    "        \n",
    "        degree_attachment_count[degree_u] += 1\n",
    "        degree_attachment_count[degree_v] += 1\n",
    "\n",
    "\n"
   ]
  },
  {
   "cell_type": "code",
   "execution_count": 20,
   "id": "27e6a78a",
   "metadata": {},
   "outputs": [
    {
     "name": "stdout",
     "output_type": "stream",
     "text": [
      "{2: 0.008088235294117648, 1: 0.48504901960784313, 7: 0.0014705882352941176, 10: 0.004656862745098039, 18: 0.004411764705882353, 4: 0.003431372549019608, 6: 0.00196078431372549, 22: 0.005147058823529412, 15: 0.0004901960784313725, 441: 0.10808823529411765, 53: 0.012990196078431373, 1576: 0.35784313725490197, 9: 0.0004901960784313725, 39: 0.00024509803921568627, 864: 0.00024509803921568627, 3: 0.0029411764705882353, 5: 0.0022058823529411764, 32: 0.00024509803921568627}\n"
     ]
    }
   ],
   "source": [
    "# Calculate the probability of attachment for each degree\n",
    "total_attachments = sum(degree_attachment_count.values())\n",
    "probability_of_attachment = {degree: count / total_attachments for degree, count in degree_attachment_count.items()}\n",
    "\n",
    "# Print the probability of attachment for each degree\n",
    "print(probability_of_attachment)"
   ]
  },
  {
   "cell_type": "code",
   "execution_count": 24,
   "id": "477fd0b7",
   "metadata": {},
   "outputs": [
    {
     "data": {
      "image/png": "[encoded data removed]",
      "text/plain": [
       "<Figure size 1000x600 with 1 Axes>"
      ]
     },
     "metadata": {},
     "output_type": "display_data"
    }
   ],
   "source": [
    "import matplotlib.pyplot as plt\n",
    "\n",
    "# Plot the probability of attachment\n",
    "degrees = list(probability_of_attachment.keys())\n",
    "probabilities = list(probability_of_attachment.values())\n",
    "\n",
    "plt.figure(figsize=(10, 6))\n",
    "plt.scatter(degrees, probabilities, marker='o')\n",
    "plt.xscale('log')\n",
    "plt.title('Probability of Attachment by Degree')\n",
    "plt.xlabel('Degree')\n",
    "plt.ylabel('Probability of Attachment')\n",
    "plt.grid(True)\n",
    "plt.show()\n"
   ]
  },
  {
   "cell_type": "code",
   "execution_count": null,
   "id": "d7886f50",
   "metadata": {},
   "outputs": [
    {
     "name": "stdout",
     "output_type": "stream",
     "text": [
      "Estimated alpha: -0.027752160834440726\n",
      "Estimated beta: [ 0.01606616 -0.02041596 -0.26310036  0.15996113  0.05909069  0.04846299]\n"
     ]
    }
   ],
   "source": [
    "import numpy as np\n",
    "from scipy.optimize import minimize\n",
    "from collections import Counter\n",
    "\n",
    "\n",
    "# Define the likelihood function for the conditional logit model\n",
    "def likelihood(params, chosen_indices, feature_matrix, k_values, delta):\n",
    "    alpha, beta = params[0], params[1:]\n",
    "    chosen_utilities = (k_values[chosen_indices] + delta) ** alpha * np.exp(np.dot(feature_matrix[chosen_indices], beta))\n",
    "    all_utilities = (k_values + delta) ** alpha * np.exp(np.dot(feature_matrix, beta))\n",
    "    \n",
    "    # Calculate the log-likelihood\n",
    "    log_likelihood = np.sum(np.log(chosen_utilities / np.sum(all_utilities, axis=1)))\n",
    "    return -log_likelihood  # We minimize, so return negative log-likelihood\n",
    "\n",
    "# Sample a few non-chosen candidates per event\n",
    "def sample_non_chosen(chosen_indices, num_samples, total_candidates):\n",
    "    non_chosen_samples = []\n",
    "    for chosen in chosen_indices:\n",
    "        candidates = list(range(total_candidates))\n",
    "        candidates.remove(chosen)\n",
    "        sampled = np.random.choice(candidates, num_samples, replace=False)\n",
    "        non_chosen_samples.append(sampled)\n",
    "    return np.array(non_chosen_samples)\n",
    "\n",
    "# Example data setup\n",
    "num_events = 1000\n",
    "#num_features = 7\n",
    "#num_candidates = 10\n",
    "delta = 0.1\n",
    "\n",
    "# Extract the 'license' feature and k values from the graph G\n",
    "license_feature = []\n",
    "k_values = []\n",
    "\n",
    "# Top-5 licneses\n",
    "list_all_licenses = []\n",
    "\n",
    "for node in G.nodes(data=True):\n",
    "    list_all_licenses.append(node[1].get('licenses', 'unknown'))\n",
    "\n",
    "top_5_licenses = Counter(list_all_licenses).most_common(5)\n",
    "\n",
    "for node in G.nodes(data=True):\n",
    "    license_i = node[1].get('licenses', 'unknown')\n",
    "    if license_i in [x[0] for x in top_5_licenses]:\n",
    "        license_feature.append(license_i)  # Default to 'other' if 'license' is not present\n",
    "    else:\n",
    "        license_feature.append('other')\n",
    "    k_values.append(G.degree(node[0]))\n",
    "\n",
    "# Convert the license feature to a categorical feature matrix\n",
    "unique_licenses = list(set(license_feature))\n",
    "license_to_index = {license: idx for idx, license in enumerate(unique_licenses)}\n",
    "feature_matrix = np.zeros((len(license_feature), len(unique_licenses)))\n",
    "\n",
    "for i, license in enumerate(license_feature):\n",
    "    feature_matrix[i, license_to_index[license]] = 1\n",
    "\n",
    "# Randomly choose indices for chosen candidates\n",
    "chosen_indices = np.random.choice(len(license_feature), num_events)\n",
    "\n",
    "# Sample non-chosen candidates\n",
    "non_chosen_samples = sample_non_chosen(chosen_indices, 3, len(license_feature))\n",
    "\n",
    "# Initial parameter guess\n",
    "initial_params = np.zeros(len(unique_licenses) + 1)  # alpha + beta\n",
    "\n",
    "# Optimize the likelihood function\n",
    "def likelihood(params, chosen_indices, feature_matrix, k_values, delta):\n",
    "    alpha = params[0]\n",
    "    beta = params[1:]\n",
    "\n",
    "    # Adjust k_values to handle zero-degree issue\n",
    "    adjusted_k_values = adjust_k_values(k_values, k0=1.0)\n",
    "    \n",
    "    # Calculate utilities for all candidates\n",
    "    all_utilities = (k_values + delta) ** alpha * np.exp(np.dot(feature_matrix, beta))\n",
    "    \n",
    "    # Calculate utilities for chosen candidates\n",
    "    chosen_utilities = all_utilities[chosen_indices]\n",
    "    \n",
    "    # Calculate log likelihood\n",
    "    if all_utilities.ndim == 1:\n",
    "        log_likelihood = np.sum(np.log(chosen_utilities / np.sum(all_utilities)))\n",
    "    else:\n",
    "        log_likelihood = np.sum(np.log(chosen_utilities / np.sum(all_utilities, axis=1)))\n",
    "    \n",
    "    return -log_likelihood\n",
    "\n",
    "# Use the likelihood function in the optimization\n",
    "result = minimize(likelihood, initial_params, args=(chosen_indices, feature_matrix, np.array(k_values), delta), method='BFGS')\n",
    "\n",
    "# Extract the estimated parameters\n",
    "estimated_alpha = result.x[0]\n",
    "estimated_beta = result.x[1:]\n",
    "\n",
    "print(f\"Estimated alpha: {estimated_alpha}\")\n",
    "print(f\"Estimated beta: {estimated_beta}\")\n",
    "\n"
   ]
  },
  {
   "cell_type": "code",
   "execution_count": 11,
   "id": "4afee490",
   "metadata": {},
   "outputs": [
    {
     "name": "stdout",
     "output_type": "stream",
     "text": [
      "Estimated alpha: -0.07795381041433165\n",
      "Estimated beta: [ 0.01705435 -0.02243148 -0.26078576  0.15912289  0.05999967  0.05025913]\n"
     ]
    }
   ],
   "source": [
    "# Define a function to handle zero-degree issue\n",
    "def adjust_k_values(k_values, k0=1.0):\n",
    "    \"\"\"\n",
    "    Adjust k_values to handle zero-degree issue by adding a small constant k0.\n",
    "    \n",
    "    Parameters:\n",
    "    - k_values: array-like, original degree values\n",
    "    - k0: float, small constant to add to k_values to avoid zero-degree issue\n",
    "    \n",
    "    Returns:\n",
    "    - adjusted_k_values: array-like, adjusted degree values\n",
    "    \"\"\"\n",
    "    return k_values + k0\n",
    "\n",
    "# Adjust k_values before using them in the likelihood function\n",
    "adjusted_k_values = adjust_k_values(np.array(k_values), k0=1.0)\n",
    "\n",
    "# Use the adjusted k_values in the optimization\n",
    "result = minimize(likelihood, initial_params, args=(chosen_indices, feature_matrix, adjusted_k_values, delta), method='BFGS')\n",
    "\n",
    "# Extract the estimated parameters\n",
    "estimated_alpha = result.x[0]\n",
    "estimated_beta = result.x[1:]\n",
    "\n",
    "print(f\"Estimated alpha: {estimated_alpha}\")\n",
    "print(f\"Estimated beta: {estimated_beta}\")\n"
   ]
  },
  {
   "cell_type": "code",
   "execution_count": 12,
   "id": "7f4f01d3",
   "metadata": {},
   "outputs": [
    {
     "data": {
      "text/plain": [
       "[('[]', 1188829),\n",
       " (\"['apache-2.0']\", 298247),\n",
       " (\"['mit']\", 109769),\n",
       " (\"['other']\", 81868),\n",
       " (\"['openrail']\", 37489)]"
      ]
     },
     "execution_count": 12,
     "metadata": {},
     "output_type": "execute_result"
    }
   ],
   "source": [
    "top_5_licenses"
   ]
  },
  {
   "cell_type": "code",
   "execution_count": 8,
   "id": "71e85fc9",
   "metadata": {},
   "outputs": [
    {
     "ename": "TypeError",
     "evalue": "can only concatenate list (not \"float\") to list",
     "output_type": "error",
     "traceback": [
      "\u001b[0;31m---------------------------------------------------------------------------\u001b[0m",
      "\u001b[0;31mTypeError\u001b[0m                                 Traceback (most recent call last)",
      "Cell \u001b[0;32mIn[8], line 5\u001b[0m\n\u001b[1;32m      1\u001b[0m \u001b[38;5;66;03m# The error indicates that the array `all_utilities` is one-dimensional, but the code is trying to sum over axis 1.\u001b[39;00m\n\u001b[1;32m      2\u001b[0m \u001b[38;5;66;03m# To fix this, ensure that `all_utilities` is a two-dimensional array or adjust the axis parameter.\u001b[39;00m\n\u001b[1;32m      3\u001b[0m \n\u001b[1;32m      4\u001b[0m \u001b[38;5;66;03m# Check the shape of all_utilities\u001b[39;00m\n\u001b[0;32m----> 5\u001b[0m all_utilities \u001b[38;5;241m=\u001b[39m (\u001b[43mk_values\u001b[49m\u001b[43m \u001b[49m\u001b[38;5;241;43m+\u001b[39;49m\u001b[43m \u001b[49m\u001b[43mdelta\u001b[49m) \u001b[38;5;241m*\u001b[39m\u001b[38;5;241m*\u001b[39m alpha \u001b[38;5;241m*\u001b[39m np\u001b[38;5;241m.\u001b[39mexp(np\u001b[38;5;241m.\u001b[39mdot(feature_matrix, beta))\n\u001b[1;32m      7\u001b[0m \u001b[38;5;66;03m# If all_utilities is indeed one-dimensional, sum over axis 0 instead\u001b[39;00m\n\u001b[1;32m      8\u001b[0m \u001b[38;5;28;01mif\u001b[39;00m all_utilities\u001b[38;5;241m.\u001b[39mndim \u001b[38;5;241m==\u001b[39m \u001b[38;5;241m1\u001b[39m:\n",
      "\u001b[0;31mTypeError\u001b[0m: can only concatenate list (not \"float\") to list"
     ]
    }
   ],
   "source": [
    "# The error indicates that the array `all_utilities` is one-dimensional, but the code is trying to sum over axis 1.\n",
    "# To fix this, ensure that `all_utilities` is a two-dimensional array or adjust the axis parameter.\n",
    "\n",
    "# Check the shape of all_utilities\n",
    "all_utilities = (k_values + delta) ** alpha * np.exp(np.dot(feature_matrix, beta))\n",
    "\n",
    "# If all_utilities is indeed one-dimensional, sum over axis 0 instead\n",
    "if all_utilities.ndim == 1:\n",
    "    log_likelihood = np.sum(np.log(chosen_utilities / np.sum(all_utilities)))\n",
    "else:\n",
    "    log_likelihood = np.sum(np.log(chosen_utilities / np.sum(all_utilities, axis=1)))\n",
    "\n",
    "return -log_likelihood\n"
   ]
  },
  {
   "cell_type": "markdown",
   "id": "913ac2a4",
   "metadata": {},
   "source": []
  }
 ],
 "metadata": {
  "kernelspec": {
   "display_name": ".venv",
   "language": "python",
   "name": "python3"
  },
  "language_info": {
   "codemirror_mode": {
    "name": "ipython",
    "version": 3
   },
   "file_extension": ".py",
   "mimetype": "text/x-python",
   "name": "python",
   "nbconvert_exporter": "python",
   "pygments_lexer": "ipython3",
   "version": "3.9.12"
  }
 },
 "nbformat": 4,
 "nbformat_minor": 5
}
